{
 "metadata": {
  "name": "",
  "signature": "sha256:4ff1d1b78ca568599d1bbf9161edb6e373876d86efb51f5ebf26a11d7ef5ae4a"
 },
 "nbformat": 3,
 "nbformat_minor": 0,
 "worksheets": [
  {
   "cells": [
    {
     "cell_type": "markdown",
     "metadata": {},
     "source": [
      "Advanced Experiments with striding\n",
      "===================================\n",
      "\n",
      "A few examples of manipulating strides in numpy arrays.\n",
      "\n",
      "Numpy arrays are wrappers around a single contiguous block of data. The \"strides\" are what describes how the single block of data is interpreted as an n dimensional array.\n",
      "\n",
      "For the most part, this is all an implimentation detail, happenidn under the hood at the C level. But numpy lets you manipulate the strides, and this allows some really powerful tricks."
     ]
    },
    {
     "cell_type": "code",
     "collapsed": false,
     "input": [
      "import numpy as np"
     ],
     "language": "python",
     "metadata": {},
     "outputs": [],
     "prompt_number": 60
    },
    {
     "cell_type": "code",
     "collapsed": false,
     "input": [
      "# A basic 2d array:\n",
      "a = np.zeros((3,4))\n",
      "a"
     ],
     "language": "python",
     "metadata": {},
     "outputs": [
      {
       "metadata": {},
       "output_type": "pyout",
       "prompt_number": 61,
       "text": [
        "array([[ 0.,  0.,  0.,  0.],\n",
        "       [ 0.,  0.,  0.,  0.],\n",
        "       [ 0.,  0.,  0.,  0.]])"
       ]
      }
     ],
     "prompt_number": 61
    },
    {
     "cell_type": "code",
     "collapsed": false,
     "input": [
      "#flatten it:\n",
      "a.flatten()"
     ],
     "language": "python",
     "metadata": {},
     "outputs": [
      {
       "metadata": {},
       "output_type": "pyout",
       "prompt_number": 62,
       "text": [
        "array([ 0.,  0.,  0.,  0.,  0.,  0.,  0.,  0.,  0.,  0.,  0.,  0.])"
       ]
      }
     ],
     "prompt_number": 62
    },
    {
     "cell_type": "code",
     "collapsed": false,
     "input": [
      "# a basic 1d array\n",
      "a"
     ],
     "language": "python",
     "metadata": {},
     "outputs": [
      {
       "metadata": {},
       "output_type": "pyout",
       "prompt_number": 63,
       "text": [
        "array([[ 0.,  0.,  0.,  0.],\n",
        "       [ 0.,  0.,  0.,  0.],\n",
        "       [ 0.,  0.,  0.,  0.]])"
       ]
      }
     ],
     "prompt_number": 63
    },
    {
     "cell_type": "code",
     "collapsed": false,
     "input": [
      "# the strides:\n",
      "a.strides"
     ],
     "language": "python",
     "metadata": {},
     "outputs": [
      {
       "metadata": {},
       "output_type": "pyout",
       "prompt_number": 64,
       "text": [
        "(32, 8)"
       ]
      }
     ],
     "prompt_number": 64
    },
    {
     "cell_type": "markdown",
     "metadata": {},
     "source": [
      "This means that you need to skip 8 bytes to get fro one element to the next (a double is 8 bytes per value)"
     ]
    },
    {
     "cell_type": "code",
     "collapsed": false,
     "input": [
      "a.itemsize"
     ],
     "language": "python",
     "metadata": {},
     "outputs": [
      {
       "metadata": {},
       "output_type": "pyout",
       "prompt_number": 65,
       "text": [
        "8"
       ]
      }
     ],
     "prompt_number": 65
    },
    {
     "cell_type": "code",
     "collapsed": false,
     "input": [
      "# reshape the array\n",
      "a.shape = (2,6)\n",
      "a"
     ],
     "language": "python",
     "metadata": {},
     "outputs": [
      {
       "metadata": {},
       "output_type": "pyout",
       "prompt_number": 67,
       "text": [
        "array([[ 0.,  0.,  0.,  0.,  0.,  0.],\n",
        "       [ 0.,  0.,  0.,  0.,  0.,  0.]])"
       ]
      }
     ],
     "prompt_number": 67
    },
    {
     "cell_type": "code",
     "collapsed": false,
     "input": [
      "# now look at the strides\n",
      "a.strides"
     ],
     "language": "python",
     "metadata": {},
     "outputs": [
      {
       "metadata": {},
       "output_type": "pyout",
       "prompt_number": 68,
       "text": [
        "(48, 8)"
       ]
      }
     ],
     "prompt_number": 68
    },
    {
     "cell_type": "markdown",
     "metadata": {},
     "source": [
      "Same bytes in the data black, but the strides define how it is to be interpreted.\n",
      "\n",
      "You need to skip 48 bytes to get from the beginning of one row to the beginning of the next row (8 bytes per value, times 6 values per row)\n",
      "\n",
      "And still 8 bytes from one element to the next in one row."
     ]
    },
    {
     "cell_type": "code",
     "collapsed": false,
     "input": [
      "# now a different data type\n",
      "a = np.arange(12, dtype=np.uint8)"
     ],
     "language": "python",
     "metadata": {},
     "outputs": [],
     "prompt_number": 69
    },
    {
     "cell_type": "code",
     "collapsed": false,
     "input": [
      "a.strides"
     ],
     "language": "python",
     "metadata": {},
     "outputs": [
      {
       "metadata": {},
       "output_type": "pyout",
       "prompt_number": 70,
       "text": [
        "(1,)"
       ]
      }
     ],
     "prompt_number": 70
    },
    {
     "cell_type": "markdown",
     "metadata": {},
     "source": [
      "only one byte per element"
     ]
    },
    {
     "cell_type": "code",
     "collapsed": false,
     "input": [
      "# reshape again\n",
      "a.shape = (3,4)\n",
      "a"
     ],
     "language": "python",
     "metadata": {},
     "outputs": [
      {
       "metadata": {},
       "output_type": "pyout",
       "prompt_number": 71,
       "text": [
        "array([[ 0,  1,  2,  3],\n",
        "       [ 4,  5,  6,  7],\n",
        "       [ 8,  9, 10, 11]], dtype=uint8)"
       ]
      }
     ],
     "prompt_number": 71
    },
    {
     "cell_type": "code",
     "collapsed": false,
     "input": [
      "a.strides"
     ],
     "language": "python",
     "metadata": {},
     "outputs": [
      {
       "metadata": {},
       "output_type": "pyout",
       "prompt_number": 72,
       "text": [
        "(4, 1)"
       ]
      }
     ],
     "prompt_number": 72
    },
    {
     "cell_type": "markdown",
     "metadata": {},
     "source": [
      "So 4 bytes to get from one row to the next, and one from one element to the next."
     ]
    },
    {
     "cell_type": "code",
     "collapsed": false,
     "input": [
      "# make it 3-d\n",
      "a.shape = (2,3,2)\n",
      "a"
     ],
     "language": "python",
     "metadata": {},
     "outputs": [
      {
       "metadata": {},
       "output_type": "pyout",
       "prompt_number": 73,
       "text": [
        "array([[[ 0,  1],\n",
        "        [ 2,  3],\n",
        "        [ 4,  5]],\n",
        "\n",
        "       [[ 6,  7],\n",
        "        [ 8,  9],\n",
        "        [10, 11]]], dtype=uint8)"
       ]
      }
     ],
     "prompt_number": 73
    },
    {
     "cell_type": "code",
     "collapsed": false,
     "input": [
      "a.strides"
     ],
     "language": "python",
     "metadata": {},
     "outputs": [
      {
       "metadata": {},
       "output_type": "pyout",
       "prompt_number": 74,
       "text": [
        "(6, 2, 1)"
       ]
      }
     ],
     "prompt_number": 74
    },
    {
     "cell_type": "markdown",
     "metadata": {},
     "source": [
      "so six bytes to get form one \"slab\" to the next, 2 to get from one row to next in that slab, and still 1 to get from item to item."
     ]
    },
    {
     "cell_type": "markdown",
     "metadata": {},
     "source": [
      "The fancy stuff\n",
      "================\n",
      "\n",
      "The ``stride_tricks`` module provides utilities to manipulate the strides of numpy arrays to do tricky things."
     ]
    },
    {
     "cell_type": "code",
     "collapsed": false,
     "input": [
      "a = np.arange(10, dtype=np.uint8)\n",
      "a.shape = (2,5)\n",
      "a"
     ],
     "language": "python",
     "metadata": {},
     "outputs": [
      {
       "metadata": {},
       "output_type": "pyout",
       "prompt_number": 75,
       "text": [
        "array([[0, 1, 2, 3, 4],\n",
        "       [5, 6, 7, 8, 9]], dtype=uint8)"
       ]
      }
     ],
     "prompt_number": 75
    },
    {
     "cell_type": "code",
     "collapsed": false,
     "input": [
      "a2 = np.lib.stride_tricks.as_strided(a, (8, 3), (1,1) )\n",
      "a2"
     ],
     "language": "python",
     "metadata": {},
     "outputs": [
      {
       "metadata": {},
       "output_type": "pyout",
       "prompt_number": 76,
       "text": [
        "array([[0, 1, 2],\n",
        "       [1, 2, 3],\n",
        "       [2, 3, 4],\n",
        "       [3, 4, 5],\n",
        "       [4, 5, 6],\n",
        "       [5, 6, 7],\n",
        "       [6, 7, 8],\n",
        "       [7, 8, 9]], dtype=uint8)"
       ]
      }
     ],
     "prompt_number": 76
    },
    {
     "cell_type": "markdown",
     "metadata": {},
     "source": [
      "huh?\n",
      "\n",
      "``as_strided(a, (8, 3), (1,1) )``\n",
      "\n",
      "means: take the data in array, ``a``, and make a new array of shape (8,3) with strides (1,1).\n",
      "\n",
      "So the array is 8*3 == 24 elements in size, but the underlying data has only 10 elements in it. This works because the strides are set to (1,1), so to find the first element of the nth row, you go n*1 bytes from teh beginning:\n",
      "\n",
      " * the zeroth row starts at byte 0\n",
      " * the first row starts ar byte 1\n",
      " * etc..\n",
      "\n",
      "Then to get the elements in each row you go one byte more:\n",
      "\n",
      " * the zeroth element in the zeroth row is at byte 0.\n",
      " * the first element in the zeroth row is at byte 1\n",
      " * the second element in the zeroth row is at byte 2\n",
      " \n",
      " * the zeroth element in the first row is at byte 1\n",
      " * the first element in the first row is at byte 2\n",
      " * the second element in the first row is at byte 3\n",
      "\n",
      "So that's how we get a bigger array than the number of elements -- elements are re-used in multiple parts of the array.\n"
     ]
    },
    {
     "cell_type": "code",
     "collapsed": false,
     "input": [
      "a2.strides"
     ],
     "language": "python",
     "metadata": {},
     "outputs": [
      {
       "metadata": {},
       "output_type": "pyout",
       "prompt_number": 77,
       "text": [
        "(1, 1)"
       ]
      }
     ],
     "prompt_number": 77
    },
    {
     "cell_type": "code",
     "collapsed": false,
     "input": [
      "a.shape, a.size"
     ],
     "language": "python",
     "metadata": {},
     "outputs": [
      {
       "metadata": {},
       "output_type": "pyout",
       "prompt_number": 81,
       "text": [
        "((2, 5), 10)"
       ]
      }
     ],
     "prompt_number": 81
    },
    {
     "cell_type": "code",
     "collapsed": false,
     "input": [
      "a2.shape, a2.size"
     ],
     "language": "python",
     "metadata": {},
     "outputs": [
      {
       "metadata": {},
       "output_type": "pyout",
       "prompt_number": 82,
       "text": [
        "((8, 3), 24)"
       ]
      }
     ],
     "prompt_number": 82
    },
    {
     "cell_type": "markdown",
     "metadata": {},
     "source": [
      "a and a2 share the same data, so if we change a, a2 changes also:"
     ]
    },
    {
     "cell_type": "code",
     "collapsed": false,
     "input": [
      "a[0,2] = 6\n",
      "a"
     ],
     "language": "python",
     "metadata": {},
     "outputs": [
      {
       "metadata": {},
       "output_type": "pyout",
       "prompt_number": 78,
       "text": [
        "array([[0, 1, 6, 3, 4],\n",
        "       [5, 6, 7, 8, 9]], dtype=uint8)"
       ]
      }
     ],
     "prompt_number": 78
    },
    {
     "cell_type": "code",
     "collapsed": false,
     "input": [
      "a2"
     ],
     "language": "python",
     "metadata": {},
     "outputs": [
      {
       "metadata": {},
       "output_type": "pyout",
       "prompt_number": 79,
       "text": [
        "array([[0, 1, 6],\n",
        "       [1, 6, 3],\n",
        "       [6, 3, 4],\n",
        "       [3, 4, 5],\n",
        "       [4, 5, 6],\n",
        "       [5, 6, 7],\n",
        "       [6, 7, 8],\n",
        "       [7, 8, 9]], dtype=uint8)"
       ]
      }
     ],
     "prompt_number": 79
    },
    {
     "cell_type": "markdown",
     "metadata": {},
     "source": [
      "Note how the 6 is reused in the first three rows...\n",
      "\n",
      "Why do this weird stuff?\n",
      "----------------------------\n",
      "\n",
      "It lets you do tricks where you want to re-use the same values without actually needing to copy them. For instance, a moving average."
     ]
    },
    {
     "cell_type": "code",
     "collapsed": false,
     "input": [
      "a.mean(axis=0)"
     ],
     "language": "python",
     "metadata": {},
     "outputs": [
      {
       "metadata": {},
       "output_type": "pyout",
       "prompt_number": 80,
       "text": [
        "array([ 2.5,  3.5,  6.5,  5.5,  6.5])"
       ]
      }
     ],
     "prompt_number": 80
    },
    {
     "cell_type": "markdown",
     "metadata": {},
     "source": [
      "``filter_example.py`` has a couple simple filters, using stride tricks to impliment them."
     ]
    },
    {
     "cell_type": "code",
     "collapsed": false,
     "input": [
      "import filter_example"
     ],
     "language": "python",
     "metadata": {},
     "outputs": [],
     "prompt_number": 85
    },
    {
     "cell_type": "code",
     "collapsed": false,
     "input": [
      "# create some data\n",
      "a = np.arange(25)\n",
      "np.random.shuffle(a)\n",
      "a"
     ],
     "language": "python",
     "metadata": {},
     "outputs": [
      {
       "metadata": {},
       "output_type": "pyout",
       "prompt_number": 87,
       "text": [
        "array([21, 19,  9, 23, 17,  2, 24,  6, 11, 22, 15, 20, 10, 18,  5, 14, 12,\n",
        "        1, 16,  0,  4,  7,  3,  8, 13])"
       ]
      }
     ],
     "prompt_number": 87
    },
    {
     "cell_type": "code",
     "collapsed": false,
     "input": [
      "filter_example.moving_average(a, 3)"
     ],
     "language": "python",
     "metadata": {},
     "outputs": [
      {
       "metadata": {},
       "output_type": "pyout",
       "prompt_number": 89,
       "text": [
        "array([ 16.33333333,  17.        ,  16.33333333,  14.        ,\n",
        "        14.33333333,  10.66666667,  13.66666667,  13.        ,\n",
        "        16.        ,  19.        ,  15.        ,  16.        ,\n",
        "        11.        ,  12.33333333,  10.33333333,   9.        ,\n",
        "         9.66666667,   5.66666667,   6.66666667,   3.66666667,\n",
        "         4.66666667,   6.        ,   8.        ])"
       ]
      }
     ],
     "prompt_number": 89
    },
    {
     "cell_type": "code",
     "collapsed": false,
     "input": [
      "filter_example.scaled_by_max(a,4)"
     ],
     "language": "python",
     "metadata": {},
     "outputs": [
      {
       "metadata": {},
       "output_type": "pyout",
       "prompt_number": 91,
       "text": [
        "array([0, 0, 0, 0, 0, 0, 1, 0, 0, 1, 0, 1, 0, 1, 0, 0, 0, 0, 1, 0, 0, 0])"
       ]
      }
     ],
     "prompt_number": 91
    },
    {
     "cell_type": "code",
     "collapsed": false,
     "input": [],
     "language": "python",
     "metadata": {},
     "outputs": []
    }
   ],
   "metadata": {}
  }
 ]
}