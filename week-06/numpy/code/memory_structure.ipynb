{
 "metadata": {
  "name": "",
  "signature": "sha256:027ecd6233f1a6b5ef18538f22270f4e18fcd90be9a5e8e724983cc50d80ee2c"
 },
 "nbformat": 3,
 "nbformat_minor": 0,
 "worksheets": [
  {
   "cells": [
    {
     "cell_type": "markdown",
     "metadata": {},
     "source": [
      "Intro to numpy memory use and structure\n",
      "-----------------------------------------"
     ]
    },
    {
     "cell_type": "code",
     "collapsed": false,
     "input": [
      "import sys\n",
      "# Always use this import line!\n",
      "import numpy as np\n",
      "# handy utility for printing numpy array description.\n",
      "from start import print_info"
     ],
     "language": "python",
     "metadata": {},
     "outputs": [],
     "prompt_number": 1
    },
    {
     "cell_type": "code",
     "collapsed": false,
     "input": [
      "empty_list = sys.getsizeof([])\n",
      "print \"size of empty list:\", empty_list"
     ],
     "language": "python",
     "metadata": {},
     "outputs": [
      {
       "output_type": "stream",
       "stream": "stdout",
       "text": [
        "size of empty list: 72\n"
       ]
      }
     ],
     "prompt_number": 2
    },
    {
     "cell_type": "code",
     "collapsed": false,
     "input": [
      "empty_array = sys.getsizeof(np.array([]))\n",
      "print \"size of empty ndarray:\", empty_array"
     ],
     "language": "python",
     "metadata": {},
     "outputs": [
      {
       "output_type": "stream",
       "stream": "stdout",
       "text": [
        "size of empty ndarray: 80\n"
       ]
      }
     ],
     "prompt_number": 3
    },
    {
     "cell_type": "code",
     "collapsed": false,
     "input": [
      "py_float = sys.getsizeof(1.0)\n",
      "print \"size of python float:\", py_float"
     ],
     "language": "python",
     "metadata": {},
     "outputs": [
      {
       "output_type": "stream",
       "stream": "stdout",
       "text": [
        "size of python float: 24\n"
       ]
      }
     ],
     "prompt_number": 4
    },
    {
     "cell_type": "code",
     "collapsed": false,
     "input": [
      "numpy_float = np.array(1.0).itemsize\n",
      "print \"size of numpy float64:\", numpy_float"
     ],
     "language": "python",
     "metadata": {},
     "outputs": [
      {
       "output_type": "stream",
       "stream": "stdout",
       "text": [
        "size of numpy float64: 8\n"
       ]
      }
     ],
     "prompt_number": 5
    },
    {
     "cell_type": "code",
     "collapsed": false,
     "input": [
      "print \"A 1000 element list of floats:\"\n",
      "print empty_list + 1000*8 + 1000*py_float, 'bytes'"
     ],
     "language": "python",
     "metadata": {},
     "outputs": [
      {
       "output_type": "stream",
       "stream": "stdout",
       "text": [
        "A 1000 element list of floats:\n",
        "32072 bytes\n"
       ]
      }
     ],
     "prompt_number": 6
    },
    {
     "cell_type": "code",
     "collapsed": false,
     "input": [
      "print \"A 1000 element list of floats:\"\n",
      "print empty_array + 1000*numpy_float, 'bytes'"
     ],
     "language": "python",
     "metadata": {},
     "outputs": [
      {
       "output_type": "stream",
       "stream": "stdout",
       "text": [
        "A 1000 element list of floats:\n",
        "8080 bytes\n"
       ]
      }
     ],
     "prompt_number": 7
    },
    {
     "cell_type": "markdown",
     "metadata": {},
     "source": [
      "Demo of the underlying structure:\n",
      "-----------------------------------    "
     ]
    },
    {
     "cell_type": "code",
     "collapsed": false,
     "input": [
      "# create an array:\n",
      "a = np.arange(12)\n",
      "print_info(a)"
     ],
     "language": "python",
     "metadata": {},
     "outputs": [
      {
       "output_type": "stream",
       "stream": "stdout",
       "text": [
        "arr :\n",
        "[ 0  1  2  3  4  5  6  7  8  9 10 11]\n",
        "arr.shape: (12,)\n",
        "arr.dtype: int64\n",
        "arr.itemsize 8\n",
        "arr.ndim: 1\n",
        "arr.strides (8,)\n",
        "arr.flags:\n",
        "  C_CONTIGUOUS : True\n",
        "  F_CONTIGUOUS : True\n",
        "  OWNDATA : True\n",
        "  WRITEABLE : True\n",
        "  ALIGNED : True\n",
        "  UPDATEIFCOPY : False\n"
       ]
      }
     ],
     "prompt_number": 8
    },
    {
     "cell_type": "code",
     "collapsed": false,
     "input": [
      "# reshape it\n",
      "a.shape = (3,4)\n",
      "print_info(a)"
     ],
     "language": "python",
     "metadata": {},
     "outputs": [
      {
       "output_type": "stream",
       "stream": "stdout",
       "text": [
        "arr :\n",
        "[[ 0  1  2  3]\n",
        " [ 4  5  6  7]\n",
        " [ 8  9 10 11]]\n",
        "arr.shape: (3, 4)\n",
        "arr.dtype: int64\n",
        "arr.itemsize 8\n",
        "arr.ndim: 2\n",
        "arr.strides (32, 8)\n",
        "arr.flags:\n",
        "  C_CONTIGUOUS : True\n",
        "  F_CONTIGUOUS : False\n",
        "  OWNDATA : True\n",
        "  WRITEABLE : True\n",
        "  ALIGNED : True\n",
        "  UPDATEIFCOPY : False\n"
       ]
      }
     ],
     "prompt_number": 9
    },
    {
     "cell_type": "code",
     "collapsed": false,
     "input": [
      "# transpose it\n",
      "b = a.transpose()\n",
      "print_info(b) "
     ],
     "language": "python",
     "metadata": {},
     "outputs": [
      {
       "output_type": "stream",
       "stream": "stdout",
       "text": [
        "arr :\n",
        "[[ 0  4  8]\n",
        " [ 1  5  9]\n",
        " [ 2  6 10]\n",
        " [ 3  7 11]]\n",
        "arr.shape: (4, 3)\n",
        "arr.dtype: int64\n",
        "arr.itemsize 8\n",
        "arr.ndim: 2\n",
        "arr.strides (8, 32)\n",
        "arr.flags:\n",
        "  C_CONTIGUOUS : False\n",
        "  F_CONTIGUOUS : True\n",
        "  OWNDATA : False\n",
        "  WRITEABLE : True\n",
        "  ALIGNED : True\n",
        "  UPDATEIFCOPY : False\n"
       ]
      }
     ],
     "prompt_number": 10
    },
    {
     "cell_type": "code",
     "collapsed": false,
     "input": [
      "# reshape again\n",
      "a.shape = (2,2,3)\n",
      "print_info(a)"
     ],
     "language": "python",
     "metadata": {},
     "outputs": [
      {
       "output_type": "stream",
       "stream": "stdout",
       "text": [
        "arr :\n",
        "[[[ 0  1  2]\n",
        "  [ 3  4  5]]\n",
        "\n",
        " [[ 6  7  8]\n",
        "  [ 9 10 11]]]\n",
        "arr.shape: (2, 2, 3)\n",
        "arr.dtype: int64\n",
        "arr.itemsize 8\n",
        "arr.ndim: 3\n",
        "arr.strides (48, 24, 8)\n",
        "arr.flags:\n",
        "  C_CONTIGUOUS : True\n",
        "  F_CONTIGUOUS : False\n",
        "  OWNDATA : True\n",
        "  WRITEABLE : True\n",
        "  ALIGNED : True\n",
        "  UPDATEIFCOPY : False\n"
       ]
      }
     ],
     "prompt_number": 11
    },
    {
     "cell_type": "code",
     "collapsed": false,
     "input": [
      "# take a slice:\n",
      "s = a[:,1,:]\n",
      "print_info(s)"
     ],
     "language": "python",
     "metadata": {},
     "outputs": [
      {
       "output_type": "stream",
       "stream": "stdout",
       "text": [
        "arr :\n",
        "[[ 3  4  5]\n",
        " [ 9 10 11]]\n",
        "arr.shape: (2, 3)\n",
        "arr.dtype: int64\n",
        "arr.itemsize 8\n",
        "arr.ndim: 2\n",
        "arr.strides (48, 8)\n",
        "arr.flags:\n",
        "  C_CONTIGUOUS : False\n",
        "  F_CONTIGUOUS : False\n",
        "  OWNDATA : False\n",
        "  WRITEABLE : True\n",
        "  ALIGNED : True\n",
        "  UPDATEIFCOPY : False\n"
       ]
      }
     ],
     "prompt_number": 12
    },
    {
     "cell_type": "code",
     "collapsed": false,
     "input": [],
     "language": "python",
     "metadata": {},
     "outputs": []
    }
   ],
   "metadata": {}
  }
 ]
}