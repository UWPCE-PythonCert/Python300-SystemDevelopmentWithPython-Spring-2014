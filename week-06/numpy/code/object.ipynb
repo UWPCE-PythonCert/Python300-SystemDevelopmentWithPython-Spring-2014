{
 "metadata": {
  "name": "",
  "signature": "sha256:6e05d6a027c2ded2ad54982d902ed9ad19fe82cc34d725348dc8145660264354"
 },
 "nbformat": 3,
 "nbformat_minor": 0,
 "worksheets": [
  {
   "cells": [
    {
     "cell_type": "markdown",
     "metadata": {},
     "source": [
      "numpy data types and the object datatype\n",
      "------------------------------------------"
     ]
    },
    {
     "cell_type": "code",
     "collapsed": false,
     "input": [
      "import numpy as np"
     ],
     "language": "python",
     "metadata": {},
     "outputs": []
    },
    {
     "cell_type": "code",
     "collapsed": false,
     "input": [
      "# usually defaults to float(64 bit)\n",
      "a = np.ones(3)\n",
      "print a.dtype"
     ],
     "language": "python",
     "metadata": {},
     "outputs": []
    },
    {
     "cell_type": "code",
     "collapsed": false,
     "input": [
      "# smart enough to match input:\n",
      "a = np.array((3,5,7,8))\n",
      "print a.dtype"
     ],
     "language": "python",
     "metadata": {},
     "outputs": []
    },
    {
     "cell_type": "code",
     "collapsed": false,
     "input": [
      "# smart enough to match input:\n",
      "a = np.array((3.0,5,7,8))\n",
      "print a.dtype"
     ],
     "language": "python",
     "metadata": {},
     "outputs": []
    },
    {
     "cell_type": "code",
     "collapsed": false,
     "input": [
      "# or you can specify:\n",
      "a = np.array( (1,2,3), dtype=np.uint8 )\n",
      "print a.dtype"
     ],
     "language": "python",
     "metadata": {},
     "outputs": []
    },
    {
     "cell_type": "code",
     "collapsed": false,
     "input": [
      "#careful: integers overflow:\n",
      "a = np.array( (1, 10, 100,), dtype=np.uint8)\n",
      "\n",
      "print a\n",
      "\n",
      "a *= 3\n",
      "\n",
      "print a"
     ],
     "language": "python",
     "metadata": {},
     "outputs": []
    },
    {
     "cell_type": "code",
     "collapsed": false,
     "input": [
      "# Object arrays:\n",
      "# create an empty array:\n",
      "\n",
      "a = np.empty((2,3), dtype=np.object)\n",
      "\n",
      "print a"
     ],
     "language": "python",
     "metadata": {},
     "outputs": []
    },
    {
     "cell_type": "code",
     "collapsed": false,
     "input": [
      "# put stuff into it:\n",
      "\n",
      "a[0,0] = \"a string\"\n",
      "a[0,1] = 4.5\n",
      "a[0,2] = (1,2,3)\n",
      "a[1,:] = [6, {'a':3}, 3.4]\n",
      "\n",
      "print a"
     ],
     "language": "python",
     "metadata": {},
     "outputs": []
    },
    {
     "cell_type": "code",
     "collapsed": false,
     "input": [
      "# a row:\n",
      "print a[1,:]"
     ],
     "language": "python",
     "metadata": {},
     "outputs": []
    },
    {
     "cell_type": "code",
     "collapsed": false,
     "input": [
      "# a column:\n",
      "print a[:,1]"
     ],
     "language": "python",
     "metadata": {},
     "outputs": []
    },
    {
     "cell_type": "code",
     "collapsed": false,
     "input": [
      "# an item (a dict in this case)\n",
      "print a[1,1]"
     ],
     "language": "python",
     "metadata": {},
     "outputs": []
    },
    {
     "cell_type": "code",
     "collapsed": false,
     "input": [
      "print a[1,1]['a']"
     ],
     "language": "python",
     "metadata": {},
     "outputs": []
    }
   ],
   "metadata": {}
  }
 ]
}