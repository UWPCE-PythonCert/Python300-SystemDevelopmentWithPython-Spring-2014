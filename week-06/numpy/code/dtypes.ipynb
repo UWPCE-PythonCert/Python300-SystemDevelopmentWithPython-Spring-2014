{
 "metadata": {
  "name": "",
  "signature": "sha256:620fdd675005163b92db0811bb835b2e607e520afbeb8bb533c34dd708688122"
 },
 "nbformat": 3,
 "nbformat_minor": 0,
 "worksheets": [
  {
   "cells": [
    {
     "cell_type": "markdown",
     "metadata": {},
     "source": [
      "numpy custom data types\n",
      "------------------------"
     ]
    },
    {
     "cell_type": "code",
     "collapsed": false,
     "input": [
      "# data types\n",
      "import numpy as np\n",
      "from start import print_info"
     ],
     "language": "python",
     "metadata": {},
     "outputs": [],
     "prompt_number": 5
    },
    {
     "cell_type": "code",
     "collapsed": false,
     "input": [
      "# a custom dtype:\n",
      "dt = np.dtype([('first_name', np.str_, 16),\n",
      "               ('last_name',  np.str_, 24),\n",
      "               ('grades',     np.float64, (2,)),\n",
      "               ])"
     ],
     "language": "python",
     "metadata": {},
     "outputs": [],
     "prompt_number": 6
    },
    {
     "cell_type": "code",
     "collapsed": false,
     "input": [
      "# create an array of this type:\n",
      "a = np.empty((3,), dtype=dt)"
     ],
     "language": "python",
     "metadata": {},
     "outputs": [],
     "prompt_number": 7
    },
    {
     "cell_type": "code",
     "collapsed": false,
     "input": [
      "#Fill it up:\n",
      " \n",
      "a[0] = ('Fred', 'Jones', (92.3, 86.2))    \n",
      "a[1] = ('Bob', 'Smith', (85.1, 88.4))    \n",
      "a[2] = ('George', 'Roberts', (76.3, 91.5))    \n",
      "\n",
      "print_info(a)"
     ],
     "language": "python",
     "metadata": {},
     "outputs": [
      {
       "output_type": "stream",
       "stream": "stdout",
       "text": [
        "arr :\n",
        "[('Fred', 'Jones', [92.3, 86.2]) ('Bob', 'Smith', [85.1, 88.4])\n",
        " ('George', 'Roberts', [76.3, 91.5])]\n",
        "arr.shape: (3,)\n",
        "arr.dtype: [('first_name', 'S16'), ('last_name', 'S24'), ('grades', '<f8', (2,))]\n",
        "arr.itemsize 56\n",
        "arr.ndim: 1\n",
        "arr.strides (56,)\n",
        "arr.flags:\n",
        "  C_CONTIGUOUS : True\n",
        "  F_CONTIGUOUS : True\n",
        "  OWNDATA : True\n",
        "  WRITEABLE : True\n",
        "  ALIGNED : True\n",
        "  UPDATEIFCOPY : False\n"
       ]
      }
     ],
     "prompt_number": 8
    },
    {
     "cell_type": "code",
     "collapsed": false,
     "input": [
      "# extract a field:\n",
      "\n",
      "print a['first_name']"
     ],
     "language": "python",
     "metadata": {},
     "outputs": [
      {
       "output_type": "stream",
       "stream": "stdout",
       "text": [
        "['Fred' 'Bob' 'George']\n"
       ]
      }
     ],
     "prompt_number": 9
    },
    {
     "cell_type": "code",
     "collapsed": false,
     "input": [
      "# do some math on a field:\n",
      "\n",
      "grades = a['grades']\n",
      "print grades"
     ],
     "language": "python",
     "metadata": {},
     "outputs": [
      {
       "output_type": "stream",
       "stream": "stdout",
       "text": [
        "[[ 92.3  86.2]\n",
        " [ 85.1  88.4]\n",
        " [ 76.3  91.5]]\n"
       ]
      }
     ],
     "prompt_number": 10
    },
    {
     "cell_type": "code",
     "collapsed": false,
     "input": [
      "# do some math:\n",
      "print grades.mean()"
     ],
     "language": "python",
     "metadata": {},
     "outputs": [
      {
       "output_type": "stream",
       "stream": "stdout",
       "text": [
        "86.6333333333\n"
       ]
      }
     ],
     "prompt_number": 11
    },
    {
     "cell_type": "code",
     "collapsed": false,
     "input": [
      "# still a view on the data\n",
      "\n",
      "print_info(grades) # note the strides!"
     ],
     "language": "python",
     "metadata": {},
     "outputs": [
      {
       "output_type": "stream",
       "stream": "stdout",
       "text": [
        "arr :\n",
        "[[ 92.3  86.2]\n",
        " [ 85.1  88.4]\n",
        " [ 76.3  91.5]]\n",
        "arr.shape: (3, 2)\n",
        "arr.dtype: float64\n",
        "arr.itemsize 8\n",
        "arr.ndim: 2\n",
        "arr.strides (56, 8)\n",
        "arr.flags:\n",
        "  C_CONTIGUOUS : False\n",
        "  F_CONTIGUOUS : False\n",
        "  OWNDATA : False\n",
        "  WRITEABLE : True\n",
        "  ALIGNED : True\n",
        "  UPDATEIFCOPY : False\n"
       ]
      }
     ],
     "prompt_number": 12
    },
    {
     "cell_type": "code",
     "collapsed": false,
     "input": [],
     "language": "python",
     "metadata": {},
     "outputs": []
    }
   ],
   "metadata": {}
  }
 ]
}