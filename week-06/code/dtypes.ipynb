{
 "metadata": {
  "name": "",
  "signature": "sha256:927300ccfe103ca1c2ae503298f3c6cae36eb8254bc73555a7ed8ad97a2115f8"
 },
 "nbformat": 3,
 "nbformat_minor": 0,
 "worksheets": [
  {
   "cells": [
    {
     "cell_type": "markdown",
     "metadata": {},
     "source": [
      "numpy custom data types\n",
      "------------------------"
     ]
    },
    {
     "cell_type": "code",
     "collapsed": false,
     "input": [
      "# data types\n",
      "from start import print_info"
     ],
     "language": "python",
     "metadata": {},
     "outputs": []
    },
    {
     "cell_type": "code",
     "collapsed": false,
     "input": [
      "# a custom dtype:\n",
      "dt = np.dtype([('first_name', np.str_, 16),\n",
      "               ('last_name',  np.str_, 24),\n",
      "               ('grades',     np.float64, (2,)),\n",
      "               ])"
     ],
     "language": "python",
     "metadata": {},
     "outputs": []
    },
    {
     "cell_type": "code",
     "collapsed": false,
     "input": [
      "# create an array of this type:\n",
      "a = np.empty((3,), dtype=dt)"
     ],
     "language": "python",
     "metadata": {},
     "outputs": []
    },
    {
     "cell_type": "code",
     "collapsed": false,
     "input": [
      "#Fill it up:\n",
      " \n",
      "a[0] = ('Fred', 'Jones', (92.3, 86.2))    \n",
      "a[1] = ('Bob', 'Smith', (85.1, 88.4))    \n",
      "a[2] = ('George', 'Roberts', (76.3, 91.5))    \n",
      "\n",
      "print_info(a)"
     ],
     "language": "python",
     "metadata": {},
     "outputs": []
    },
    {
     "cell_type": "code",
     "collapsed": false,
     "input": [
      "# extract a field:\n",
      "\n",
      "print a['first_name']"
     ],
     "language": "python",
     "metadata": {},
     "outputs": []
    },
    {
     "cell_type": "code",
     "collapsed": false,
     "input": [
      "# do some math on a field:\n",
      "\n",
      "grades = a['grades']\n",
      "print grades"
     ],
     "language": "python",
     "metadata": {},
     "outputs": []
    },
    {
     "cell_type": "code",
     "collapsed": false,
     "input": [
      "# do some math:\n",
      "print grades.mean()"
     ],
     "language": "python",
     "metadata": {},
     "outputs": []
    },
    {
     "cell_type": "code",
     "collapsed": false,
     "input": [
      "# still a view on the data\n",
      "\n",
      "print_info(grades) # note the strides!"
     ],
     "language": "python",
     "metadata": {},
     "outputs": []
    }
   ],
   "metadata": {}
  }
 ]
}