{
 "metadata": {
  "name": "",
  "signature": "sha256:d9d8ff092aa89285f750059747dcc818124b6c27ea500e09d6a69b36722199de"
 },
 "nbformat": 3,
 "nbformat_minor": 0,
 "worksheets": [
  {
   "cells": [
    {
     "cell_type": "markdown",
     "metadata": {},
     "source": [
      "numpy slicing demo\n",
      "--------------------"
     ]
    },
    {
     "cell_type": "code",
     "collapsed": false,
     "input": [
      "import numpy as np\n",
      "from start import print_info"
     ],
     "language": "python",
     "metadata": {},
     "outputs": []
    },
    {
     "cell_type": "code",
     "collapsed": false,
     "input": [
      "# create an array:\n",
      "a = np.arange(12)\n",
      "print_info(a)"
     ],
     "language": "python",
     "metadata": {},
     "outputs": []
    },
    {
     "cell_type": "code",
     "collapsed": false,
     "input": [
      "# A slice is a view:\n",
      "b = a[3:6]\n",
      "print b\n",
      "print_info(b, 'b')"
     ],
     "language": "python",
     "metadata": {},
     "outputs": []
    },
    {
     "cell_type": "code",
     "collapsed": false,
     "input": [
      "# note \"OWNDATA\" flag -- b does not \"own\" its data.\n",
      "\n",
      "b[0] = 44\n",
      "\n",
      "print b\n",
      "print a\n",
      "\n",
      "# a has changed!"
     ],
     "language": "python",
     "metadata": {},
     "outputs": []
    },
    {
     "cell_type": "code",
     "collapsed": false,
     "input": [
      "# what about slicing higher-dim arrays:\n",
      "a = np.arange(12).reshape(3,4)\n",
      "print_info(a,'a')"
     ],
     "language": "python",
     "metadata": {},
     "outputs": []
    },
    {
     "cell_type": "code",
     "collapsed": false,
     "input": [
      "# \"row\" slice:\n",
      "b = a[1,:]\n",
      "print_info(b,'b')"
     ],
     "language": "python",
     "metadata": {},
     "outputs": []
    },
    {
     "cell_type": "code",
     "collapsed": false,
     "input": [
      "# \"column\" slice:\n",
      "b = a[:,1]\n",
      "print_info(b,'b')"
     ],
     "language": "python",
     "metadata": {},
     "outputs": []
    },
    {
     "cell_type": "code",
     "collapsed": false,
     "input": [],
     "language": "python",
     "metadata": {},
     "outputs": []
    }
   ],
   "metadata": {}
  }
 ]
}