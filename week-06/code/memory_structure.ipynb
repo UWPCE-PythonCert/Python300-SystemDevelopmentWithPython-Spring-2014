{
 "metadata": {
  "name": "",
  "signature": "sha256:99125dede2126032ff220aafb118a832358345c800704951d2bc19baad2523e4"
 },
 "nbformat": 3,
 "nbformat_minor": 0,
 "worksheets": [
  {
   "cells": [
    {
     "cell_type": "markdown",
     "metadata": {},
     "source": [
      "Intro to numpy memory use and structure\n",
      "-----------------------------------------"
     ]
    },
    {
     "cell_type": "code",
     "collapsed": false,
     "input": [
      "import sys\n",
      "# Always use this import line!\n",
      "import numpy as np\n",
      "# handy utility for printing numpy array description.\n",
      "from start import print_info"
     ],
     "language": "python",
     "metadata": {},
     "outputs": []
    },
    {
     "cell_type": "code",
     "collapsed": false,
     "input": [
      "empty_list = sys.getsizeof([])\n",
      "print \"size of empty list:\", empty_list"
     ],
     "language": "python",
     "metadata": {},
     "outputs": []
    },
    {
     "cell_type": "code",
     "collapsed": false,
     "input": [
      "empty_array = sys.getsizeof(np.array([]))\n",
      "print \"size of empty ndarray:\", empty_array"
     ],
     "language": "python",
     "metadata": {},
     "outputs": []
    },
    {
     "cell_type": "code",
     "collapsed": false,
     "input": [
      "py_float = sys.getsizeof(1.0)\n",
      "print \"size of python float:\", py_float"
     ],
     "language": "python",
     "metadata": {},
     "outputs": []
    },
    {
     "cell_type": "code",
     "collapsed": false,
     "input": [
      "numpy_float = np.array(1.0).itemsize\n",
      "print \"size of numpy float64:\", numpy_float"
     ],
     "language": "python",
     "metadata": {},
     "outputs": []
    },
    {
     "cell_type": "code",
     "collapsed": false,
     "input": [
      "print \"A 1000 element list of floats:\"\n",
      "print empty_list + 1000*8 + 1000*py_float, 'bytes'"
     ],
     "language": "python",
     "metadata": {},
     "outputs": []
    },
    {
     "cell_type": "code",
     "collapsed": false,
     "input": [
      "print \"A 1000 element list of floats:\"\n",
      "print empty_array + 1000*numpy_float, 'bytes'"
     ],
     "language": "python",
     "metadata": {},
     "outputs": []
    },
    {
     "cell_type": "markdown",
     "metadata": {},
     "source": [
      "Demo of the underlying structure:\n",
      "-----------------------------------    "
     ]
    },
    {
     "cell_type": "code",
     "collapsed": false,
     "input": [
      "# create an array:\n",
      "a = np.arange(12)\n",
      "print_info(a)"
     ],
     "language": "python",
     "metadata": {},
     "outputs": []
    },
    {
     "cell_type": "code",
     "collapsed": false,
     "input": [
      "# reshape it\n",
      "a.shape = (3,4)\n",
      "print_info(a)"
     ],
     "language": "python",
     "metadata": {},
     "outputs": []
    },
    {
     "cell_type": "code",
     "collapsed": false,
     "input": [
      "# transpose it\n",
      "b = a.transpose()\n",
      "print_info(b) "
     ],
     "language": "python",
     "metadata": {},
     "outputs": []
    },
    {
     "cell_type": "code",
     "collapsed": false,
     "input": [
      "# reshape again\n",
      "a.shape = (2,2,3)\n",
      "print_info(a)"
     ],
     "language": "python",
     "metadata": {},
     "outputs": []
    },
    {
     "cell_type": "code",
     "collapsed": false,
     "input": [
      "# take a slice:\n",
      "s = a[:,1,:]\n",
      "print_info(s)"
     ],
     "language": "python",
     "metadata": {},
     "outputs": []
    }
   ],
   "metadata": {}
  }
 ]
}